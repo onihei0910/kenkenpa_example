{
 "cells": [
  {
   "cell_type": "code",
   "execution_count": 235,
   "metadata": {},
   "outputs": [],
   "source": [
    "\"\"\"\n",
    "This code explains how to use kenkenpa based on LangGraph's \"How to create branches for parallel node execution\".\n",
    "Some parts of the code are borrowed from the code at the following URL.\n",
    "https://langchain-ai.github.io/langgraph/how-tos/branching/\n",
    "\n",
    "In this section, we will predefine all the nodes used in the following four examples described in this How-to Guide,\n",
    "and construct and execute an agent while switching GraphSettings at runtime.\n",
    "- Parallel node fan-out and fan-in\n",
    "- Parallel node fan-out and fan-in with extra steps\n",
    "- Conditional Branching\n",
    "- Stable Sorting\n",
    "\"\"\"\n",
    "import operator\n",
    "from typing import Any\n",
    "\n",
    "from kenkenpa.builder import StateGraphBuilder\n"
   ]
  },
  {
   "cell_type": "code",
   "execution_count": 236,
   "metadata": {},
   "outputs": [],
   "source": [
    "# Definition of Nodes\n",
    "# - ReturnNodeValue\n",
    "# - ParallelReturnNodeValue\n",
    "# - AggregateFanoutValues"
   ]
  },
  {
   "cell_type": "code",
   "execution_count": 237,
   "metadata": {},
   "outputs": [],
   "source": [
    "class ReturnNodeValue():\n",
    "    def __init__(self, factory_parameter,flow_parameter):\n",
    "        self._value = factory_parameter['node_secret']\n",
    "    def __call__(self, state ) -> Any:\n",
    "        print(f\"Adding {self._value} to {state['aggregate']}\")\n",
    "        return {\"aggregate\": [self._value]}"
   ]
  },
  {
   "cell_type": "code",
   "execution_count": 238,
   "metadata": {},
   "outputs": [],
   "source": [
    "class ParallelReturnNodeValue():\n",
    "    def __init__(self, factory_parameter,flow_parameter):\n",
    "        self._value:str = factory_parameter['node_secret']\n",
    "        self._reliability:float = factory_parameter['reliability']\n",
    "    \n",
    "    def __call__(self, state) -> Any:\n",
    "        print(f\"Adding {self._value} to {state['aggregate']} in parallel.\")\n",
    "        return {\n",
    "            \"fanout_values\": [\n",
    "                {\n",
    "                    \"value\": [self._value],\n",
    "                    \"reliability\": self._reliability,\n",
    "                }\n",
    "            ]\n",
    "        }"
   ]
  },
  {
   "cell_type": "code",
   "execution_count": 239,
   "metadata": {},
   "outputs": [],
   "source": [
    "class AggregateFanoutValues():\n",
    "    def __init__(self, factory_parameter,flow_parameter):\n",
    "        pass\n",
    "    \n",
    "    def __call__(self, state) -> Any:\n",
    "        #Sort by reliability\n",
    "        ranked_values = sorted(\n",
    "            state[\"fanout_values\"],key=lambda x: x[\"reliability\"],reverse=True\n",
    "        )\n",
    "        return {\n",
    "            \"aggregate\": [x[\"value\"] for x in ranked_values] + [\"I'm E\"],\n",
    "            \"fanout_values\": [],\n",
    "        }"
   ]
  },
  {
   "cell_type": "code",
   "execution_count": 240,
   "metadata": {},
   "outputs": [],
   "source": [
    "# Definition of Reducer\n",
    "# - reduce_fanouts"
   ]
  },
  {
   "cell_type": "code",
   "execution_count": 241,
   "metadata": {},
   "outputs": [],
   "source": [
    "def reduce_fanouts(left,right):\n",
    "    if left is None:\n",
    "        left = []\n",
    "    if not right:\n",
    "        return []\n",
    "    return left + right"
   ]
  },
  {
   "cell_type": "code",
   "execution_count": 242,
   "metadata": {},
   "outputs": [],
   "source": [
    "# Map the previously defined reducers and factories (defined as classes in this example code) to a dictionary.\n",
    "# This dictionary is passed when creating an instance of StateGraphBuilder.\n",
    "reducer_map = {\n",
    "    \"add\":operator.add,\n",
    "    \"reduce_fanouts\":reduce_fanouts,\n",
    "}\n",
    "\n",
    "factory_map = {\n",
    "    \"ReturnNodeValue\":ReturnNodeValue,\n",
    "    \"ParallelReturnNodeValue\":ParallelReturnNodeValue,\n",
    "    \"AggregateFanoutValues\":AggregateFanoutValues\n",
    "}\n"
   ]
  },
  {
   "cell_type": "code",
   "execution_count": 243,
   "metadata": {},
   "outputs": [],
   "source": [
    "# Map the graph definitions for the four examples\n",
    "graph_settings = {}"
   ]
  },
  {
   "cell_type": "code",
   "execution_count": 244,
   "metadata": {},
   "outputs": [],
   "source": [
    "graph_settings['fanout_fanin'] = {\n",
    "    \"graph_type\":\"stategraph\",\n",
    "    \"flow_parameter\":{\n",
    "        \"name\":\"Parallel-node\",\n",
    "        \"state\" : [\n",
    "            {\n",
    "                \"field_name\": \"aggregate\",\n",
    "                \"type\": \"list\",\n",
    "                \"reducer\":\"add\"\n",
    "            },\n",
    "        ],\n",
    "    },\n",
    "    \"flows\": [\n",
    "        { # node a\n",
    "            \"graph_type\":\"node\",\n",
    "            \"flow_parameter\": {\n",
    "                \"name\":\"a\",\n",
    "                \"factory\":\"ReturnNodeValue\",\n",
    "            },\n",
    "            \"factory_parameter\" : {\"node_secret\":\"I'm A\"},\n",
    "        },\n",
    "        { # normal_edge START-> a\n",
    "            \"graph_type\":\"edge\",\n",
    "            \"flow_parameter\":{\n",
    "                \"start_key\":\"START\",\n",
    "                \"end_key\":\"a\"\n",
    "            },\n",
    "        },\n",
    "        { # node b\n",
    "            \"graph_type\":\"node\",\n",
    "            \"flow_parameter\": {\n",
    "                \"name\":\"b\",\n",
    "                \"factory\":\"ReturnNodeValue\",\n",
    "            },\n",
    "            \"factory_parameter\" : {\"node_secret\":\"I'm B\"},\n",
    "        },\n",
    "        { # node c\n",
    "            \"graph_type\":\"node\",\n",
    "            \"flow_parameter\": {\n",
    "                \"name\":\"c\",\n",
    "                \"factory\":\"ReturnNodeValue\",\n",
    "            },\n",
    "            \"factory_parameter\" : {\"node_secret\":\"I'm C\"},\n",
    "        },\n",
    "        { # node d\n",
    "            \"graph_type\":\"node\",\n",
    "            \"flow_parameter\": {\n",
    "                \"name\":\"d\",\n",
    "                \"factory\":\"ReturnNodeValue\",\n",
    "            },\n",
    "            \"factory_parameter\" : {\"node_secret\":\"I'm D\"},\n",
    "        },\n",
    "        { # normal_edge a -> b\n",
    "            \"graph_type\":\"edge\",\n",
    "            \"flow_parameter\": {\n",
    "                \"start_key\":\"a\",\n",
    "                \"end_key\":\"b\"\n",
    "            },\n",
    "        },\n",
    "        { # normal_edge a -> c\n",
    "            \"graph_type\":\"edge\",\n",
    "            \"flow_parameter\": {\n",
    "                \"start_key\":\"a\",\n",
    "                \"end_key\":\"c\"\n",
    "            },\n",
    "        },\n",
    "        { # normal_edge [b,c] -> d\n",
    "            \"graph_type\":\"edge\",\n",
    "            \"flow_parameter\": {\n",
    "                \"start_key\":[\"b\",\"c\"],\n",
    "                \"end_key\":\"d\"\n",
    "            },\n",
    "        },\n",
    "        { # normal_edge d -> END\n",
    "            \"graph_type\":\"edge\",\n",
    "            \"flow_parameter\": {\n",
    "                \"start_key\":\"d\",\n",
    "                \"end_key\":\"END\"\n",
    "            },\n",
    "        },\n",
    "    ]\n",
    "}"
   ]
  },
  {
   "cell_type": "code",
   "execution_count": 245,
   "metadata": {},
   "outputs": [],
   "source": [
    "graph_settings['fo_fi_with_extra_steps'] = {\n",
    "    \"graph_type\":\"stategraph\",\n",
    "    \"flow_parameter\":{\n",
    "        \"name\":\"Parallel-node\",\n",
    "        \"state\" : [\n",
    "            {\n",
    "                \"field_name\": \"aggregate\",\n",
    "                \"type\": \"list\",\n",
    "                \"reducer\":\"add\"\n",
    "            },\n",
    "        ],\n",
    "    },\n",
    "    \"flows\": [\n",
    "        { # node a\n",
    "            \"graph_type\":\"node\",\n",
    "            \"flow_parameter\": {\n",
    "                \"name\":\"a\",\n",
    "                \"factory\":\"ReturnNodeValue\",\n",
    "            },\n",
    "            \"factory_parameter\" : {\"node_secret\":\"I'm A\"},\n",
    "        },\n",
    "        { # normal_edge START-> a\n",
    "            \"graph_type\":\"edge\",\n",
    "            \"flow_parameter\":{\n",
    "                \"start_key\":\"START\",\n",
    "                \"end_key\":\"a\"\n",
    "            },\n",
    "        },\n",
    "        { # node b\n",
    "            \"graph_type\":\"node\",\n",
    "            \"flow_parameter\": {\n",
    "                \"name\":\"b\",\n",
    "                \"factory\":\"ReturnNodeValue\",\n",
    "            },\n",
    "            \"factory_parameter\" : {\"node_secret\":\"I'm B\"},\n",
    "        },\n",
    "        { # node b2\n",
    "            \"graph_type\":\"node\",\n",
    "            \"flow_parameter\": {\n",
    "                \"name\":\"b2\",\n",
    "                \"factory\":\"ReturnNodeValue\",\n",
    "            },\n",
    "            \"factory_parameter\" : {\"node_secret\":\"I'm B2\"},\n",
    "        },\n",
    "        { # node c\n",
    "            \"graph_type\":\"node\",\n",
    "            \"flow_parameter\": {\n",
    "                \"name\":\"c\",\n",
    "                \"factory\":\"ReturnNodeValue\",\n",
    "            },\n",
    "            \"factory_parameter\" : {\"node_secret\":\"I'm C\"},\n",
    "        },\n",
    "        { # node d\n",
    "            \"graph_type\":\"node\",\n",
    "            \"flow_parameter\": {\n",
    "                \"name\":\"d\",\n",
    "                \"factory\":\"ReturnNodeValue\",\n",
    "            },\n",
    "            \"factory_parameter\" : {\"node_secret\":\"I'm D\"},\n",
    "        },\n",
    "        { # normal_edge a -> b\n",
    "            \"graph_type\":\"edge\",\n",
    "            \"flow_parameter\": {\n",
    "                \"start_key\":\"a\",\n",
    "                \"end_key\":\"b\"\n",
    "            },\n",
    "        },\n",
    "        { # normal_edge b -> b2\n",
    "            \"graph_type\":\"edge\",\n",
    "            \"flow_parameter\": {\n",
    "                \"start_key\":\"b\",\n",
    "                \"end_key\":\"b2\"\n",
    "            },\n",
    "        },\n",
    "        { # normal_edge a -> c\n",
    "            \"graph_type\":\"edge\",\n",
    "            \"flow_parameter\": {\n",
    "                \"start_key\":\"a\",\n",
    "                \"end_key\":\"c\"\n",
    "            },\n",
    "        },\n",
    "        { # normal_edge [b2,c] -> d\n",
    "            \"graph_type\":\"edge\",\n",
    "            \"flow_parameter\": {\n",
    "                \"start_key\":[\"b2\",\"c\"],\n",
    "                \"end_key\":\"d\"\n",
    "            },\n",
    "        },\n",
    "        { # normal_edge d -> END\n",
    "            \"graph_type\":\"edge\",\n",
    "            \"flow_parameter\": {\n",
    "                \"start_key\":\"d\",\n",
    "                \"end_key\":\"END\"\n",
    "            },\n",
    "        },\n",
    "    ]\n",
    "}"
   ]
  },
  {
   "cell_type": "code",
   "execution_count": 246,
   "metadata": {},
   "outputs": [],
   "source": [
    "\n",
    "graph_settings['conditional_branching'] = {\n",
    "    \"graph_type\":\"stategraph\",\n",
    "    \"flow_parameter\":{\n",
    "        \"name\":\"Parallel-node\",\n",
    "        \"state\" : [\n",
    "            {\n",
    "                \"field_name\": \"aggregate\",\n",
    "                \"type\": \"list\",\n",
    "                \"reducer\":\"add\"\n",
    "            },\n",
    "            {\n",
    "                \"field_name\": \"which\",\n",
    "                \"type\": \"str\",\n",
    "            },\n",
    "        ],\n",
    "    },\n",
    "    \"flows\": [\n",
    "        { # node a\n",
    "            \"graph_type\":\"node\",\n",
    "            \"flow_parameter\": {\n",
    "                \"name\":\"a\",\n",
    "                \"factory\":\"ReturnNodeValue\",\n",
    "            },\n",
    "            \"factory_parameter\" : {\"node_secret\":\"I'm A\"},\n",
    "        },\n",
    "        { # normal_edge START-> a\n",
    "            \"graph_type\":\"edge\",\n",
    "            \"flow_parameter\":{\n",
    "                \"start_key\":\"START\",\n",
    "                \"end_key\":\"a\"\n",
    "            },\n",
    "        },\n",
    "        { # node b\n",
    "            \"graph_type\":\"node\",\n",
    "            \"flow_parameter\": {\n",
    "                \"name\":\"b\",\n",
    "                \"factory\":\"ReturnNodeValue\",\n",
    "            },\n",
    "            \"factory_parameter\" : {\"node_secret\":\"I'm B\"},\n",
    "        },\n",
    "        { # node c\n",
    "            \"graph_type\":\"node\",\n",
    "            \"flow_parameter\": {\n",
    "                \"name\":\"c\",\n",
    "                \"factory\":\"ReturnNodeValue\",\n",
    "            },\n",
    "            \"factory_parameter\" : {\"node_secret\":\"I'm C\"},\n",
    "        },\n",
    "        { # node d\n",
    "            \"graph_type\":\"node\",\n",
    "            \"flow_parameter\": {\n",
    "                \"name\":\"d\",\n",
    "                \"factory\":\"ReturnNodeValue\",\n",
    "            },\n",
    "            \"factory_parameter\" : {\"node_secret\":\"I'm D\"},\n",
    "        },\n",
    "        { # node e\n",
    "            \"graph_type\":\"node\",\n",
    "            \"flow_parameter\": {\n",
    "                \"name\":\"e\",\n",
    "                \"factory\":\"ReturnNodeValue\",\n",
    "            },\n",
    "            \"factory_parameter\" : {\"node_secret\":\"I'm E\"},\n",
    "        },\n",
    "        { # conditional edge a -> b,c or c,d\n",
    "            \"graph_type\":\"configurable_conditional_edge\",\n",
    "            \"flow_parameter\":{\n",
    "                \"start_key\":\"a\",\n",
    "                \"conditions\":[\n",
    "                    {\n",
    "                        \"expression\": {\n",
    "                            \"eq\": [{\"type\": \"state_value\", \"name\": \"which\"}, \"cd\"],\n",
    "                        },\n",
    "                        \"result\": [\"c\",\"d\"]\n",
    "                    },\n",
    "                    {\"default\": [\"b\",\"c\"]}\n",
    "                ]\n",
    "            },\n",
    "        },\n",
    "        { # normal_edge b,c,d -> e\n",
    "            \"graph_type\":\"edge\",\n",
    "            \"flow_parameter\": {\n",
    "                \"start_key\":[\"b\",\"c\",\"d\"],\n",
    "                \"end_key\":\"e\"\n",
    "            },\n",
    "        },\n",
    "        { # normal_edge e -> END\n",
    "            \"graph_type\":\"edge\",\n",
    "            \"flow_parameter\": {\n",
    "                \"start_key\":\"e\",\n",
    "                \"end_key\":\"END\"\n",
    "            },\n",
    "        },\n",
    "    ]\n",
    "}"
   ]
  },
  {
   "cell_type": "code",
   "execution_count": 247,
   "metadata": {},
   "outputs": [],
   "source": [
    "\n",
    "graph_settings['stable_sorting'] = {\n",
    "    \"graph_type\":\"stategraph\",\n",
    "    \"flow_parameter\":{\n",
    "        \"name\":\"Parallel-node\",\n",
    "        \"state\" : [\n",
    "            {\n",
    "                \"field_name\": \"aggregate\",\n",
    "                \"type\": \"list\",\n",
    "                \"reducer\":\"add\"\n",
    "            },\n",
    "            {\n",
    "                \"field_name\": \"fanout_values\",\n",
    "                \"type\": \"list\",\n",
    "                \"reducer\":\"reduce_fanouts\"\n",
    "            },\n",
    "            {\n",
    "                \"field_name\": \"which\",\n",
    "                \"type\": \"str\",\n",
    "            },\n",
    "        ],\n",
    "    },\n",
    "    \"flows\": [\n",
    "        { # node a\n",
    "            \"graph_type\":\"node\",\n",
    "            \"flow_parameter\": {\n",
    "                \"name\":\"a\",\n",
    "                \"factory\":\"ReturnNodeValue\",\n",
    "            },\n",
    "            \"factory_parameter\" : {\"node_secret\":\"I'm A\"},\n",
    "        },\n",
    "        { # normal_edge START-> a\n",
    "            \"graph_type\":\"edge\",\n",
    "            \"flow_parameter\":{\n",
    "                \"start_key\":\"START\",\n",
    "                \"end_key\":\"a\"\n",
    "            },\n",
    "        },\n",
    "        { # conditional edge a -> b,c or c,d\n",
    "            \"graph_type\":\"configurable_conditional_edge\",\n",
    "            \"flow_parameter\":{\n",
    "                \"start_key\":\"a\",\n",
    "                \"path_map\":[\"b\",\"c\",\"d\"],\n",
    "                \"conditions\":[\n",
    "                    {\n",
    "                        \"expression\": {\n",
    "                            \"eq\": [{\"type\": \"state_value\", \"name\": \"which\"}, \"cd\"],\n",
    "                        },\n",
    "                        \"result\": [\"c\",\"d\"]\n",
    "                    },\n",
    "                    {\"default\": [\"b\",\"c\"]}\n",
    "                ]\n",
    "            },\n",
    "        },\n",
    "        { # node b\n",
    "            \"graph_type\":\"node\",\n",
    "            \"flow_parameter\": {\n",
    "                \"name\":\"b\",\n",
    "                \"factory\":\"ParallelReturnNodeValue\",\n",
    "            },\n",
    "            \"factory_parameter\" : {\n",
    "                \"node_secret\":\"I'm B\",\n",
    "                \"reliability\":0.9,\n",
    "                },\n",
    "        },\n",
    "        { # node c\n",
    "            \"graph_type\":\"node\",\n",
    "            \"flow_parameter\": {\n",
    "                \"name\":\"c\",\n",
    "                \"factory\":\"ParallelReturnNodeValue\",\n",
    "            },\n",
    "            \"factory_parameter\" : {\n",
    "                \"node_secret\":\"I'm C\",\n",
    "                \"reliability\":0.1,\n",
    "                },\n",
    "        },\n",
    "        { # node d\n",
    "            \"graph_type\":\"node\",\n",
    "            \"flow_parameter\": {\n",
    "                \"name\":\"d\",\n",
    "                \"factory\":\"ParallelReturnNodeValue\",\n",
    "            },\n",
    "            \"factory_parameter\" : {\n",
    "                \"node_secret\":\"I'm D\",\n",
    "                \"reliability\":0.3,\n",
    "                },\n",
    "        },\n",
    "        { # node e\n",
    "            \"graph_type\":\"node\",\n",
    "            \"flow_parameter\": {\n",
    "                \"name\":\"e\",\n",
    "                \"factory\":\"AggregateFanoutValues\",\n",
    "            },\n",
    "        },\n",
    "        { # normal_edge [b,c,d] -> e\n",
    "            \"graph_type\":\"edge\",\n",
    "            \"flow_parameter\": {\n",
    "                \"start_key\":[\"b\",\"c\",\"d\"],\n",
    "                \"end_key\":\"e\"\n",
    "            },\n",
    "        },\n",
    "        { # normal_edge e -> END\n",
    "            \"graph_type\":\"edge\",\n",
    "            \"flow_parameter\": {\n",
    "                \"start_key\":\"e\",\n",
    "                \"end_key\":\"END\"\n",
    "            },\n",
    "        },\n",
    "    ]\n",
    "}"
   ]
  },
  {
   "cell_type": "code",
   "execution_count": 248,
   "metadata": {},
   "outputs": [],
   "source": [
    "# Preparation is now complete.\n",
    "# From here, we will execute the examples from the how-to guides."
   ]
  },
  {
   "cell_type": "code",
   "execution_count": 249,
   "metadata": {},
   "outputs": [
    {
     "data": {
      "image/jpeg": "[encoded data removed]",
      "text/plain": [
       "<IPython.core.display.Image object>"
      ]
     },
     "metadata": {},
     "output_type": "display_data"
    }
   ],
   "source": [
    "# Parallel node fan-out and fan-in\n",
    "stategraph_builder = StateGraphBuilder(\n",
    "    graph_settings=graph_settings['fanout_fanin'] ,\n",
    "    node_factorys=factory_map,\n",
    "    reducers=reducer_map\n",
    "    )\n",
    "\n",
    "# The gen_stategraph method generates a compilable StateGraph.\n",
    "fofi_stategraph = stategraph_builder.gen_stategraph()\n",
    "\n",
    "# From here on, we will write the code following the general usage of LangGraph.\n",
    "graph = fofi_stategraph.compile()\n",
    "\n",
    "from IPython.display import Image, display\n",
    "display(Image(graph.get_graph().draw_mermaid_png()))\n"
   ]
  },
  {
   "cell_type": "code",
   "execution_count": 250,
   "metadata": {},
   "outputs": [
    {
     "name": "stdout",
     "output_type": "stream",
     "text": [
      "Adding I'm A to []\n",
      "Adding I'm B to [\"I'm A\"]\n",
      "Adding I'm C to [\"I'm A\"]\n",
      "Adding I'm D to [\"I'm A\", \"I'm B\", \"I'm C\"]\n"
     ]
    },
    {
     "data": {
      "text/plain": [
       "{'aggregate': [\"I'm A\", \"I'm B\", \"I'm C\", \"I'm D\"]}"
      ]
     },
     "execution_count": 250,
     "metadata": {},
     "output_type": "execute_result"
    }
   ],
   "source": [
    "graph.invoke({\"aggregate\": []}, {\"configurable\": {\"thread_id\": \"foo\"}})\n"
   ]
  },
  {
   "cell_type": "code",
   "execution_count": 251,
   "metadata": {},
   "outputs": [
    {
     "data": {
      "image/jpeg": "[encoded data removed]",
      "text/plain": [
       "<IPython.core.display.Image object>"
      ]
     },
     "metadata": {},
     "output_type": "display_data"
    }
   ],
   "source": [
    "# Parallel node fan-out and fan-in with extra steps\n",
    "stategraph_builder = StateGraphBuilder(\n",
    "    graph_settings=graph_settings['fo_fi_with_extra_steps'],\n",
    "    node_factorys=factory_map,\n",
    "    reducers=reducer_map\n",
    "    )\n",
    "\n",
    "# The gen_stategraph method generates a compilable StateGraph.\n",
    "fofies_stategraph = stategraph_builder.gen_stategraph()\n",
    "\n",
    "# From here on, we will write the code following the general usage of LangGraph.\n",
    "graph = fofies_stategraph.compile()\n",
    "\n",
    "from IPython.display import Image, display\n",
    "display(Image(graph.get_graph().draw_mermaid_png()))\n"
   ]
  },
  {
   "cell_type": "code",
   "execution_count": 252,
   "metadata": {},
   "outputs": [
    {
     "name": "stdout",
     "output_type": "stream",
     "text": [
      "Adding I'm A to []\n",
      "Adding I'm B to [\"I'm A\"]\n",
      "Adding I'm C to [\"I'm A\"]\n",
      "Adding I'm B2 to [\"I'm A\", \"I'm B\", \"I'm C\"]\n",
      "Adding I'm D to [\"I'm A\", \"I'm B\", \"I'm C\"]\n",
      "Adding I'm D to [\"I'm A\", \"I'm B\", \"I'm C\", \"I'm B2\", \"I'm D\"]\n"
     ]
    },
    {
     "data": {
      "text/plain": [
       "{'aggregate': [\"I'm A\", \"I'm B\", \"I'm C\", \"I'm B2\", \"I'm D\", \"I'm D\"]}"
      ]
     },
     "execution_count": 252,
     "metadata": {},
     "output_type": "execute_result"
    }
   ],
   "source": [
    "graph.invoke({\"aggregate\": []}, {\"configurable\": {\"thread_id\": \"foo\"}})\n"
   ]
  },
  {
   "cell_type": "code",
   "execution_count": 253,
   "metadata": {},
   "outputs": [
    {
     "data": {
      "image/jpeg": "[encoded data removed]",
      "text/plain": [
       "<IPython.core.display.Image object>"
      ]
     },
     "metadata": {},
     "output_type": "display_data"
    }
   ],
   "source": [
    "# Conditional Branching\n",
    "stategraph_builder = StateGraphBuilder(\n",
    "    graph_settings=graph_settings['conditional_branching'],\n",
    "    node_factorys=factory_map,\n",
    "    reducers=reducer_map\n",
    "    )\n",
    "\n",
    "# The gen_stategraph method generates a compilable StateGraph.\n",
    "stategraph = stategraph_builder.gen_stategraph()\n",
    "\n",
    "# From here on, we will write the code following the general usage of LangGraph.\n",
    "graph = stategraph.compile()\n",
    "\n",
    "from IPython.display import Image, display\n",
    "display(Image(graph.get_graph().draw_mermaid_png()))\n"
   ]
  },
  {
   "cell_type": "code",
   "execution_count": 254,
   "metadata": {},
   "outputs": [
    {
     "name": "stdout",
     "output_type": "stream",
     "text": [
      "Adding I'm A to []\n",
      "Adding I'm B to [\"I'm A\"]\n",
      "Adding I'm C to [\"I'm A\"]\n",
      "Adding I'm E to [\"I'm A\", \"I'm B\", \"I'm C\"]\n"
     ]
    },
    {
     "data": {
      "text/plain": [
       "{'aggregate': [\"I'm A\", \"I'm B\", \"I'm C\", \"I'm E\"], 'which': 'bc'}"
      ]
     },
     "execution_count": 254,
     "metadata": {},
     "output_type": "execute_result"
    }
   ],
   "source": [
    "graph.invoke({\"aggregate\": [],\"which\":\"bc\"}, {\"configurable\": {\"thread_id\": \"foo\"}})\n"
   ]
  },
  {
   "cell_type": "code",
   "execution_count": 255,
   "metadata": {},
   "outputs": [
    {
     "name": "stdout",
     "output_type": "stream",
     "text": [
      "Adding I'm A to []\n",
      "Adding I'm C to [\"I'm A\"]\n",
      "Adding I'm D to [\"I'm A\"]\n",
      "Adding I'm E to [\"I'm A\", \"I'm C\", \"I'm D\"]\n"
     ]
    },
    {
     "data": {
      "text/plain": [
       "{'aggregate': [\"I'm A\", \"I'm C\", \"I'm D\", \"I'm E\"], 'which': 'cd'}"
      ]
     },
     "execution_count": 255,
     "metadata": {},
     "output_type": "execute_result"
    }
   ],
   "source": [
    "graph.invoke({\"aggregate\": [],\"which\":\"cd\"}, {\"configurable\": {\"thread_id\": \"foo\"}})\n"
   ]
  },
  {
   "cell_type": "code",
   "execution_count": 256,
   "metadata": {},
   "outputs": [
    {
     "data": {
      "image/jpeg": "[encoded data removed]",
      "text/plain": [
       "<IPython.core.display.Image object>"
      ]
     },
     "metadata": {},
     "output_type": "display_data"
    }
   ],
   "source": [
    "# Stable Sorting\n",
    "stategraph_builder = StateGraphBuilder(\n",
    "    graph_settings=graph_settings['stable_sorting'],\n",
    "    node_factorys=factory_map,\n",
    "    reducers=reducer_map\n",
    "    )\n",
    "\n",
    "# The gen_stategraph method generates a compilable StateGraph.\n",
    "stable_sorting_stategraph = stategraph_builder.gen_stategraph()\n",
    "\n",
    "# From here on, we will write the code following the general usage of LangGraph.\n",
    "graph = stable_sorting_stategraph.compile()\n",
    "\n",
    "from IPython.display import Image, display\n",
    "display(Image(graph.get_graph().draw_mermaid_png()))\n"
   ]
  },
  {
   "cell_type": "code",
   "execution_count": 257,
   "metadata": {},
   "outputs": [
    {
     "name": "stdout",
     "output_type": "stream",
     "text": [
      "Adding I'm A to []\n",
      "Adding I'm B to [\"I'm A\"] in parallel.\n",
      "Adding I'm C to [\"I'm A\"] in parallel.\n"
     ]
    },
    {
     "data": {
      "text/plain": [
       "{'aggregate': [\"I'm A\", [\"I'm B\"], [\"I'm C\"], \"I'm E\"],\n",
       " 'fanout_values': [],\n",
       " 'which': 'bc'}"
      ]
     },
     "execution_count": 257,
     "metadata": {},
     "output_type": "execute_result"
    }
   ],
   "source": [
    "graph.invoke({\"aggregate\": [], \"which\": \"bc\", \"fanout_values\": []})"
   ]
  },
  {
   "cell_type": "code",
   "execution_count": 258,
   "metadata": {},
   "outputs": [
    {
     "name": "stdout",
     "output_type": "stream",
     "text": [
      "Adding I'm A to []\n",
      "Adding I'm C to [\"I'm A\"] in parallel.\n",
      "Adding I'm D to [\"I'm A\"] in parallel.\n"
     ]
    },
    {
     "data": {
      "text/plain": [
       "{'aggregate': [\"I'm A\", [\"I'm D\"], [\"I'm C\"], \"I'm E\"],\n",
       " 'fanout_values': [],\n",
       " 'which': 'cd'}"
      ]
     },
     "execution_count": 258,
     "metadata": {},
     "output_type": "execute_result"
    }
   ],
   "source": [
    "graph.invoke({\"aggregate\": [], \"which\": \"cd\"})"
   ]
  }
 ],
 "metadata": {
  "kernelspec": {
   "display_name": "Python 3",
   "language": "python",
   "name": "python3"
  },
  "language_info": {
   "codemirror_mode": {
    "name": "ipython",
    "version": 3
   },
   "file_extension": ".py",
   "mimetype": "text/x-python",
   "name": "python",
   "nbconvert_exporter": "python",
   "pygments_lexer": "ipython3",
   "version": "3.12.6"
  }
 },
 "nbformat": 4,
 "nbformat_minor": 2
}
