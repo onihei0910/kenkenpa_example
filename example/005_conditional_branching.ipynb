{
 "cells": [
  {
   "cell_type": "code",
   "execution_count": 1,
   "metadata": {},
   "outputs": [
    {
     "data": {
      "text/plain": [
       "'\\nThis test explains how to use kenkenpa based on LangGraph\\'s \"Parallel node fan-out and fan-in\".\\nSome parts of the test code are borrowed from the code at the following URL.\\nhttps://langchain-ai.github.io/langgraph/how-tos/branching/\\n'"
      ]
     },
     "execution_count": 1,
     "metadata": {},
     "output_type": "execute_result"
    }
   ],
   "source": [
    "\"\"\"\n",
    "This test explains how to use kenkenpa based on LangGraph's \"Parallel node fan-out and fan-in\".\n",
    "Some parts of the test code are borrowed from the code at the following URL.\n",
    "https://langchain-ai.github.io/langgraph/how-tos/branching/\n",
    "\"\"\"\n"
   ]
  },
  {
   "cell_type": "code",
   "execution_count": 2,
   "metadata": {},
   "outputs": [],
   "source": [
    "import operator\n",
    "from typing import Any\n",
    "\n",
    "from kenkenpa.builder import StateGraphBuilder\n",
    "\n",
    "# State is not defined. It is defined within graph_settings.\n",
    "#class State(TypedDict):\n",
    "#    The operator.add reducer fn makes this append-only\n",
    "#    aggregate: Annotated[list, operator.add]\n",
    "#    which: str\n",
    "\n",
    "# Since the conditional edge that refers to the state is defined within graph_settings,\n",
    "# this is also not defined.\n",
    "#def route_bc_or_cd(state: State) -> Sequence[str]:\n",
    "    #if state[\"which\"] == \"cd\":\n",
    "    #    return [\"c\", \"d\"]\n",
    "    #return [\"b\", \"c\"]"
   ]
  },
  {
   "cell_type": "code",
   "execution_count": 3,
   "metadata": {},
   "outputs": [],
   "source": [
    "# We will define a class that returns a ReturnNodeValue.\n",
    "class ReturnNodeValue:\n",
    "    def __init__(self, factory_parameter,flow_parameter):\n",
    "        self._value = factory_parameter['node_secret']\n",
    "    def __call__(self, state ) -> Any:\n",
    "        print(f\"Adding {self._value} to {state['aggregate']}\")\n",
    "        return {\"aggregate\": [self._value]}"
   ]
  },
  {
   "cell_type": "code",
   "execution_count": 4,
   "metadata": {},
   "outputs": [],
   "source": [
    "# We will describe the settings of a compilable StateGraph in dictionary\n",
    "graph_settings = {\n",
    "    \"graph_type\":\"stategraph\",\n",
    "    \"flow_parameter\":{\n",
    "        \"name\":\"Parallel-node\",\n",
    "        \"state\" : [\n",
    "            {\n",
    "                \"field_name\": \"aggregate\",\n",
    "                \"type\": \"list\",\n",
    "                \"reducer\":\"add\"\n",
    "            },\n",
    "            {\n",
    "                \"field_name\": \"which\",\n",
    "                \"type\": \"str\",\n",
    "            },\n",
    "        ],\n",
    "    },\n",
    "    \"flows\": [\n",
    "        { # node a\n",
    "            \"graph_type\":\"node\",\n",
    "            \"flow_parameter\": {\n",
    "                \"name\":\"a\",\n",
    "                \"factory\":\"gen_return_node_value\",\n",
    "            },\n",
    "            \"factory_parameter\" : {\"node_secret\":\"I'm A\"},\n",
    "        },\n",
    "        { # normal_edge START-> a\n",
    "            \"graph_type\":\"edge\",\n",
    "            \"flow_parameter\":{\n",
    "                \"start_key\":\"START\",\n",
    "                \"end_key\":\"a\"\n",
    "            },\n",
    "        },\n",
    "        { # node b\n",
    "            \"graph_type\":\"node\",\n",
    "            \"flow_parameter\": {\n",
    "                \"name\":\"b\",\n",
    "                \"factory\":\"gen_return_node_value\",\n",
    "            },\n",
    "            \"factory_parameter\" : {\"node_secret\":\"I'm B\"},\n",
    "        },\n",
    "        { # node c\n",
    "            \"graph_type\":\"node\",\n",
    "            \"flow_parameter\": {\n",
    "                \"name\":\"c\",\n",
    "                \"factory\":\"gen_return_node_value\",\n",
    "            },\n",
    "            \"factory_parameter\" : {\"node_secret\":\"I'm C\"},\n",
    "        },\n",
    "        { # node d\n",
    "            \"graph_type\":\"node\",\n",
    "            \"flow_parameter\": {\n",
    "                \"name\":\"d\",\n",
    "                \"factory\":\"gen_return_node_value\",\n",
    "            },\n",
    "            \"factory_parameter\" : {\"node_secret\":\"I'm D\"},\n",
    "        },\n",
    "        { # node e\n",
    "            \"graph_type\":\"node\",\n",
    "            \"flow_parameter\": {\n",
    "                \"name\":\"e\",\n",
    "                \"factory\":\"gen_return_node_value\",\n",
    "            },\n",
    "            \"factory_parameter\" : {\"node_secret\":\"I'm E\"},\n",
    "        },\n",
    "        { # conditional edge a -> b,c or c,d\n",
    "            \"graph_type\":\"configurable_conditional_edge\",\n",
    "            \"flow_parameter\":{\n",
    "                \"start_key\":\"a\",\n",
    "                \"conditions\":[\n",
    "                    {\n",
    "                        \"expression\": {\n",
    "                            \"eq\": [{\"type\": \"state_value\", \"name\": \"which\"}, \"cd\"],\n",
    "                        },\n",
    "                        \"result\": [\"c\",\"d\"]\n",
    "                    },\n",
    "                    {\"default\": [\"b\",\"c\"]}\n",
    "                ]\n",
    "            },\n",
    "        },\n",
    "        { # normal_edge b,c,d -> e\n",
    "            \"graph_type\":\"edge\",\n",
    "            \"flow_parameter\": {\n",
    "                \"start_key\":[\"b\",\"c\",\"d\"],\n",
    "                \"end_key\":\"e\"\n",
    "            },\n",
    "        },\n",
    "        { # normal_edge e -> END\n",
    "            \"graph_type\":\"edge\",\n",
    "            \"flow_parameter\": {\n",
    "                \"start_key\":\"e\",\n",
    "                \"end_key\":\"END\"\n",
    "            },\n",
    "        },\n",
    "    ]\n",
    "}"
   ]
  },
  {
   "cell_type": "code",
   "execution_count": 5,
   "metadata": {},
   "outputs": [
    {
     "data": {
      "image/jpeg": "[encoded data removed]",
      "text/plain": [
       "<IPython.core.display.Image object>"
      ]
     },
     "metadata": {},
     "output_type": "display_data"
    },
    {
     "name": "stdout",
     "output_type": "stream",
     "text": [
      "graph.invoke({\"aggregate\": [],\"which\":\"bc\"}, {\"configurable\": {\"thread_id\": \"foo\"}})\n",
      "Adding I'm A to []\n",
      "Adding I'm B to [\"I'm A\"]\n",
      "Adding I'm C to [\"I'm A\"]\n",
      "Adding I'm E to [\"I'm A\", \"I'm B\", \"I'm C\"]\n",
      "graph.invoke({\"aggregate\": [],\"which\":\"cd\"}, {\"configurable\": {\"thread_id\": \"foo\"}})\n",
      "Adding I'm A to []\n",
      "Adding I'm C to [\"I'm A\"]\n",
      "Adding I'm D to [\"I'm A\"]\n",
      "Adding I'm E to [\"I'm A\", \"I'm C\", \"I'm D\"]\n"
     ]
    },
    {
     "data": {
      "text/plain": [
       "{'aggregate': [\"I'm A\", \"I'm C\", \"I'm D\", \"I'm E\"], 'which': 'cd'}"
      ]
     },
     "execution_count": 5,
     "metadata": {},
     "output_type": "execute_result"
    }
   ],
   "source": [
    "# Generate the StateGraphBuilder from graph_settings.\n",
    "stategraph_builder = StateGraphBuilder(graph_settings)\n",
    "\n",
    "# The term \"list\" is reserved as a basic type. (*1)\n",
    "#stategraph_builder.add_type(\"list\",list)\n",
    "\n",
    "# Register the reducer to be used in the StateGraphBuilder.\n",
    "stategraph_builder.add_reducer(\"add\",operator.add)\n",
    "\n",
    "# Register the node factory with the stategraph_builder.\n",
    "stategraph_builder.add_node_factory(\"gen_return_node_value\",ReturnNodeValue)\n",
    "\n",
    "# The gen_stategraph method generates a compilable StateGraph.\n",
    "stategraph = stategraph_builder.gen_stategraph()\n",
    "\n",
    "# From here on, we will write the code following the general usage of LangGraph.\n",
    "graph = stategraph.compile()\n",
    "\n",
    "from IPython.display import Image, display\n",
    "display(Image(graph.get_graph().draw_mermaid_png()))\n",
    "\n",
    "print('graph.invoke({\"aggregate\": [],\"which\":\"bc\"}, {\"configurable\": {\"thread_id\": \"foo\"}})')\n",
    "graph.invoke({\"aggregate\": [],\"which\":\"bc\"}, {\"configurable\": {\"thread_id\": \"foo\"}})\n",
    "\n",
    "print('graph.invoke({\"aggregate\": [],\"which\":\"cd\"}, {\"configurable\": {\"thread_id\": \"foo\"}})')\n",
    "graph.invoke({\"aggregate\": [],\"which\":\"cd\"}, {\"configurable\": {\"thread_id\": \"foo\"}})\n",
    "\n",
    "# In StateGraphBuilder, the following types are pre-registered as basic types.\n",
    "# \"int\":int,\n",
    "# \"float\":float,\n",
    "# \"complex\":complex,\n",
    "# \"str\":str,\n",
    "# \"list\":list,\n",
    "# \"tuple\":tuple,\n",
    "# \"dict\":dict,\n",
    "# \"set\":set,\n",
    "# \"frozenset\":frozenset,\n",
    "# \"bool\":bool,"
   ]
  }
 ],
 "metadata": {
  "kernelspec": {
   "display_name": "Python 3",
   "language": "python",
   "name": "python3"
  },
  "language_info": {
   "codemirror_mode": {
    "name": "ipython",
    "version": 3
   },
   "file_extension": ".py",
   "mimetype": "text/x-python",
   "name": "python",
   "nbconvert_exporter": "python",
   "pygments_lexer": "ipython3",
   "version": "3.12.6"
  }
 },
 "nbformat": 4,
 "nbformat_minor": 2
}
