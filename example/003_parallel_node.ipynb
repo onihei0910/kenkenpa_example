{
 "cells": [
  {
   "cell_type": "code",
   "execution_count": 1,
   "metadata": {},
   "outputs": [
    {
     "data": {
      "text/plain": [
       "'\\nThis test explains how to use kenkenpa by using LangGraph\\'s \"Conditional Branching\" as an example.\\nSome parts of the test code are adapted from the code described at the following URL.\\nhttps://langchain-ai.github.io/langgraph/how-tos/branching/#conditional-branching\\n'"
      ]
     },
     "execution_count": 1,
     "metadata": {},
     "output_type": "execute_result"
    }
   ],
   "source": [
    "\"\"\"\n",
    "This test explains how to use kenkenpa by using LangGraph's \"Conditional Branching\" as an example.\n",
    "Some parts of the test code are adapted from the code described at the following URL.\n",
    "https://langchain-ai.github.io/langgraph/how-tos/branching/#conditional-branching\n",
    "\"\"\""
   ]
  },
  {
   "cell_type": "code",
   "execution_count": 2,
   "metadata": {},
   "outputs": [],
   "source": [
    "import operator\n",
    "from typing import Any\n",
    "\n",
    "from kenkenpa.builder import StateGraphBuilder\n",
    "\n",
    "# State is not defined. It is defined within graph_settings.\n",
    "# class State(TypedDict):\n",
    "    # The operator.add reducer fn makes this append-only\n",
    "    # aggregate: Annotated[list, operator.add]\n",
    "\n",
    "# Define a factory function that returns a ReturnNodeValue.\n",
    "def gen_return_node_value(factory_parameter,flow_parameter):\n",
    "\n",
    "    class ReturnNodeValue:\n",
    "        def __init__(self, node_secret: str):\n",
    "            self._value = node_secret\n",
    "\n",
    "        def __call__(self, state ) -> Any:\n",
    "            print(f\"Adding {self._value} to {state['aggregate']}\")\n",
    "            return {\"aggregate\": [self._value]}\n",
    "\n",
    "    object = ReturnNodeValue(factory_parameter['node_secret'])\n",
    "\n",
    "    return object"
   ]
  },
  {
   "cell_type": "code",
   "execution_count": 3,
   "metadata": {},
   "outputs": [],
   "source": [
    "# Describe the settings of a compilable StateGraph in dictionary format.\n",
    "graph_settings = {\n",
    "    \"graph_type\":\"stategraph\",\n",
    "    \"flow_parameter\":{\n",
    "        \"name\":\"Parallel-node\",\n",
    "        # The state \"aggregate\" is set here.\n",
    "        \"state\" : [\n",
    "            {\n",
    "                \"field_name\": \"aggregate\",\n",
    "                \"type\": \"list\",\n",
    "                \"reducer\":\"add\"\n",
    "            },\n",
    "        ],\n",
    "    },\n",
    "    \"flows\": [\n",
    "        { # node A\n",
    "            \"graph_type\":\"node\",\n",
    "            \"flow_parameter\": {\n",
    "                \"name\":\"a\",\n",
    "                \"factory\":\"gen_return_node_value\",\n",
    "            },\n",
    "            \"factory_parameter\" : {\"node_secret\":\"I'm A\"},\n",
    "        },\n",
    "        { # normal_edge START-> a\n",
    "            \"graph_type\":\"edge\",\n",
    "            \"flow_parameter\":{\n",
    "                \"start_key\":\"START\",\n",
    "                \"end_key\":\"a\"\n",
    "            },\n",
    "        },\n",
    "        { # node b\n",
    "            \"graph_type\":\"node\",\n",
    "            \"flow_parameter\": {\n",
    "                \"name\":\"b\",\n",
    "                \"factory\":\"gen_return_node_value\",\n",
    "            },\n",
    "            \"factory_parameter\" : {\"node_secret\":\"I'm B\"},\n",
    "        },\n",
    "        { # node c\n",
    "            \"graph_type\":\"node\",\n",
    "            \"flow_parameter\": {\n",
    "                \"name\":\"c\",\n",
    "                \"factory\":\"gen_return_node_value\",\n",
    "            },\n",
    "            \"factory_parameter\" : {\"node_secret\":\"I'm C\"},\n",
    "        },\n",
    "        { # node d\n",
    "            \"graph_type\":\"node\",\n",
    "            \"flow_parameter\": {\n",
    "                \"name\":\"d\",\n",
    "                \"factory\":\"gen_return_node_value\",\n",
    "            },\n",
    "            \"factory_parameter\" : {\"node_secret\":\"I'm D\"},\n",
    "        },\n",
    "        { # normal_edge a -> b,c\n",
    "            \"graph_type\":\"edge\",\n",
    "            \"flow_parameter\": {\n",
    "                \"start_key\":\"a\",\n",
    "                \"end_key\":[\"b\",\"c\"],\n",
    "            },\n",
    "        },\n",
    "        { # normal_edge b,c -> d\n",
    "            \"graph_type\":\"edge\",\n",
    "            \"flow_parameter\": {\n",
    "                \"start_key\":[\"b\",\"c\"],\n",
    "                \"end_key\":\"d\"\n",
    "            },\n",
    "        },\n",
    "        { # normal_edge d -> END\n",
    "            \"graph_type\":\"edge\",\n",
    "            \"flow_parameter\": {\n",
    "                \"start_key\":\"d\",\n",
    "                \"end_key\":\"END\"\n",
    "            },\n",
    "        },\n",
    "    ]\n",
    "}"
   ]
  },
  {
   "cell_type": "code",
   "execution_count": 4,
   "metadata": {},
   "outputs": [
    {
     "data": {
      "image/jpeg": "[encoded data removed]",
      "text/plain": [
       "<IPython.core.display.Image object>"
      ]
     },
     "metadata": {},
     "output_type": "display_data"
    },
    {
     "name": "stdout",
     "output_type": "stream",
     "text": [
      "Adding I'm A to []\n",
      "Adding I'm B to [\"I'm A\"]\n",
      "Adding I'm C to [\"I'm A\"]\n",
      "Adding I'm D to [\"I'm A\", \"I'm B\", \"I'm C\"]\n"
     ]
    },
    {
     "data": {
      "text/plain": [
       "{'aggregate': [\"I'm A\", \"I'm B\", \"I'm C\", \"I'm D\"]}"
      ]
     },
     "execution_count": 4,
     "metadata": {},
     "output_type": "execute_result"
    }
   ],
   "source": [
    "# Generate the StateGraphBuilder from graph_settings.\n",
    "stategraph_builder = StateGraphBuilder(graph_settings)\n",
    "\n",
    "# Register the reducer to be used in the StateGraphBuilder.\n",
    "stategraph_builder.add_reducer(\"add\",operator.add)\n",
    "\n",
    "# Register the node factory with the stategraph_builder.\n",
    "stategraph_builder.add_node_factory(\"gen_return_node_value\",gen_return_node_value)\n",
    "\n",
    "# The gen_stategraph method generates a compilable StateGraph.\n",
    "stategraph = stategraph_builder.gen_stategraph()\n",
    "\n",
    "# From here on, we will write the code following the general usage of LangGraph.\n",
    "graph = stategraph.compile()\n",
    "\n",
    "from IPython.display import Image, display\n",
    "display(Image(graph.get_graph().draw_mermaid_png()))\n",
    "\n",
    "graph.invoke({\"aggregate\": []}, {\"configurable\": {\"thread_id\": \"foo\"}})"
   ]
  }
 ],
 "metadata": {
  "kernelspec": {
   "display_name": "Python 3",
   "language": "python",
   "name": "python3"
  },
  "language_info": {
   "codemirror_mode": {
    "name": "ipython",
    "version": 3
   },
   "file_extension": ".py",
   "mimetype": "text/x-python",
   "name": "python",
   "nbconvert_exporter": "python",
   "pygments_lexer": "ipython3",
   "version": "3.12.6"
  }
 },
 "nbformat": 4,
 "nbformat_minor": 2
}
