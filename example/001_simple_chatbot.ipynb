{
 "cells": [
  {
   "cell_type": "code",
   "execution_count": 1,
   "metadata": {},
   "outputs": [
    {
     "data": {
      "text/plain": [
       "'\\nThis test explains how to use kenkenpa using the simple chatbot example from LangGraph.\\nSome parts of the test code reuse the code listed at the following URL.\\nhttps://langchain-ai.github.io/langgraph/tutorials/introduction/\\n'"
      ]
     },
     "execution_count": 1,
     "metadata": {},
     "output_type": "execute_result"
    }
   ],
   "source": [
    "\"\"\"\n",
    "This test explains how to use kenkenpa using the simple chatbot example from LangGraph.\n",
    "Some parts of the test code reuse the code listed at the following URL.\n",
    "https://langchain-ai.github.io/langgraph/tutorials/introduction/\n",
    "\"\"\""
   ]
  },
  {
   "cell_type": "code",
   "execution_count": 2,
   "metadata": {},
   "outputs": [],
   "source": [
    "# We will define the chatbot function that will serve as the node.\n",
    "# This follows the QuickStart guide.\n",
    "\n",
    "from langchain_openai import ChatOpenAI\n",
    "\n",
    "# LLM settings\n",
    "llm = ChatOpenAI(\n",
    "    model=\"gpt-4o-mini\"\n",
    ")\n",
    "\n",
    "def chatbot(state,config):\n",
    "    return {\"messages\":[llm.invoke(state[\"messages\"])]}\n",
    "\n",
    "# Apart from the chatbot,\n",
    "# it is necessary to define a factory function that returns the defined chatbot.\n",
    "def gen_chatbot_agent(factory_parameter,flow_parameter):\n",
    "    \"\"\"chatbot node factory\"\"\"\n",
    "    return chatbot"
   ]
  },
  {
   "cell_type": "code",
   "execution_count": 3,
   "metadata": {},
   "outputs": [],
   "source": [
    "# Define the structured data representing the StateGraph.\n",
    "graph_settings = {\n",
    "    \"graph_type\":\"stategraph\",\n",
    "    \"flow_parameter\":{\n",
    "        \"name\":\"React-Agent\",\n",
    "        \"state\" : [\n",
    "            {\n",
    "                \"field_name\": \"messages\",\n",
    "                \"type\": \"list\",\n",
    "                \"reducer\":\"add_messages\"\n",
    "            },\n",
    "        ],\n",
    "    },\n",
    "    \"flows\": [\n",
    "        { # This is the definition of the node chatbot.\n",
    "            \"graph_type\":\"node\",\n",
    "            \"flow_parameter\": {\n",
    "                \"name\":\"chatbot_agent\",\n",
    "                # Specify the string that maps to the factory function (gen_chatbot_agent) defined in the factory.\n",
    "                # The mapping is specified at runtime.\n",
    "                \"factory\":\"chatbot_factory\",\n",
    "            },\n",
    "        },\n",
    "        { # normal_edge START-> chatbot_agent\n",
    "            \"graph_type\":\"edge\",\n",
    "            \"flow_parameter\":{\n",
    "                \"start_key\":\"START\",\n",
    "                \"end_key\":\"chatbot_agent\"\n",
    "            },\n",
    "        },\n",
    "        { # normal_edge chatbot_agent-> END\n",
    "            \"graph_type\":\"edge\",\n",
    "            \"flow_parameter\": {\n",
    "                \"start_key\":\"chatbot_agent\",\n",
    "                \"end_key\":\"END\"\n",
    "            },\n",
    "        },\n",
    "    ]\n",
    "}"
   ]
  },
  {
   "cell_type": "code",
   "execution_count": 4,
   "metadata": {},
   "outputs": [
    {
     "data": {
      "image/jpeg": "[encoded data removed]",
      "text/plain": [
       "<IPython.core.display.Image object>"
      ]
     },
     "metadata": {},
     "output_type": "display_data"
    },
    {
     "name": "stdout",
     "output_type": "stream",
     "text": [
      "================================\u001b[1m Human Message \u001b[0m=================================\n",
      "\n",
      "Hi there! My name is Will.\n",
      "==================================\u001b[1m Ai Message \u001b[0m==================================\n",
      "\n",
      "Hi Will! How can I assist you today?\n"
     ]
    }
   ],
   "source": [
    "from langgraph.graph import  add_messages\n",
    "from langgraph.checkpoint.memory import MemorySaver\n",
    "\n",
    "from kenkenpa.builder import StateGraphBuilder\n",
    "\n",
    "# Generate the StateGraphBuilder from graph_settings.\n",
    "stategraph_builder = StateGraphBuilder(graph_settings)\n",
    "\n",
    "# Register the reducer with the StateGraphBuilder.\n",
    "stategraph_builder.add_reducer(\"add_messages\",add_messages)\n",
    "\n",
    "# Register the node factory with the stategraph_builder.\n",
    "# Here, we are mapping the gen_chatbot_agent function to \"chatbot_factory\".\n",
    "# Please ensure it matches the key value listed in graph_settings.\n",
    "stategraph_builder.add_node_factory(\"chatbot_factory\",gen_chatbot_agent)\n",
    "\n",
    "# You can obtain a compilable StateGraph using the gen_stategraph method.\n",
    "stategraph = stategraph_builder.gen_stategraph()\n",
    "\n",
    "# From here on, we will write the code following the general usage of LangGraph.\n",
    "# Please note that this library does not involve config and checkpointer.\n",
    "memory = MemorySaver()\n",
    "app =  stategraph.compile(checkpointer=memory,debug=False)\n",
    "\n",
    "from IPython.display import Image, display\n",
    "display(Image(app.get_graph().draw_mermaid_png()))\n",
    "\n",
    "config = {\"configurable\": {\"thread_id\": \"1\"}}\n",
    "user_input = \"Hi there! My name is Will.\"\n",
    "number_of_events = 0\n",
    "events = app.stream(\n",
    "    {\"messages\": [(\"user\", user_input)]}, config, stream_mode=\"values\"\n",
    ")\n",
    "for event in events:\n",
    "    number_of_events = number_of_events + 1\n",
    "    event[\"messages\"][-1].pretty_print()"
   ]
  }
 ],
 "metadata": {
  "kernelspec": {
   "display_name": "Python 3",
   "language": "python",
   "name": "python3"
  },
  "language_info": {
   "name": "python",
   "version": "3.12.6"
  }
 },
 "nbformat": 4,
 "nbformat_minor": 2
}
